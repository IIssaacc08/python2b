{
  "nbformat": 4,
  "nbformat_minor": 0,
  "metadata": {
    "colab": {
      "provenance": [],
      "authorship_tag": "ABX9TyO56GimWAFAT34CwA5kwwQs",
      "include_colab_link": true
    },
    "kernelspec": {
      "name": "python3",
      "display_name": "Python 3"
    },
    "language_info": {
      "name": "python"
    }
  },
  "cells": [
    {
      "cell_type": "markdown",
      "metadata": {
        "id": "view-in-github",
        "colab_type": "text"
      },
      "source": [
        "<a href=\"https://colab.research.google.com/github/IIssaacc08/python2b/blob/main/Untitled0.ipynb\" target=\"_parent\"><img src=\"https://colab.research.google.com/assets/colab-badge.svg\" alt=\"Open In Colab\"/></a>"
      ]
    },
    {
      "cell_type": "code",
      "source": [
        "aula 1"
      ],
      "metadata": {
        "id": "uKdau2NPyOET"
      },
      "execution_count": null,
      "outputs": []
    },
    {
      "cell_type": "markdown",
      "source": [],
      "metadata": {
        "id": "Bm1uMxMRyMsh"
      }
    },
    {
      "cell_type": "code",
      "execution_count": 3,
      "metadata": {
        "colab": {
          "base_uri": "https://localhost:8080/"
        },
        "id": "UQaogN7TyHK1",
        "outputId": "a5b2e9e1-d4af-427b-a3ce-aae9c7df562b"
      },
      "outputs": [
        {
          "output_type": "stream",
          "name": "stdout",
          "text": [
            "I competição de programação dá Start\n",
            "II competição de programação da Start\n"
          ]
        }
      ],
      "source": [
        "print(\"I competição de programação dá Start\")\n",
        "ano = \"IX\"\n",
        "print(ano, \"competição de programação da Start\")\n",
        "print(f\"{ano} competição de programação da Start\")"
      ]
    },
    {
      "cell_type": "markdown",
      "source": [
        "aula 2"
      ],
      "metadata": {
        "id": "EVwCkCK01NXJ"
      }
    },
    {
      "cell_type": "code",
      "source": [
        "livro_ficcao = 8\n",
        "livro_n_ficcao = 10\n",
        "livro_infantil = 6\n",
        "pontos_rodrigo = livro_ficcao + livro_n_ficcao + livro_infantil\n",
        "print(f\"Os pontos totais do Rodrigo são {pontos_rodrigo}\")\n"
      ],
      "metadata": {
        "id": "tUJoZ8Lf0dOi"
      },
      "execution_count": null,
      "outputs": []
    }
  ]
}